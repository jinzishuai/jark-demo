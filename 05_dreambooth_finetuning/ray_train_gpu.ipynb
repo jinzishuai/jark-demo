{
 "cells": [
  {
   "cell_type": "markdown",
   "id": "0400147c-7180-45a9-8909-bec69afab521",
   "metadata": {},
   "source": [
    "# How to run jobs in Raycluster using Jupyterhub?\n"
   ]
  },
  {
   "cell_type": "code",
   "execution_count": null,
   "id": "5962e337-a6df-4d35-87e9-c2ceaf7561a3",
   "metadata": {},
   "outputs": [],
   "source": [
    "!pip install -q ray[default] huggingface_hub\n",
    "\n",
    "# We can get this address from the workder node of the RayCluster\n",
    "%env RAY_ADDRESS=gpu-raycluster-head-svc.ray-gpu.svc.cluster.local:6379"
   ]
  },
  {
   "attachments": {
    "a9f6248f-68af-47c3-9dba-886dcfcac292.png": {
     "image/png": "[encoded data removed]"
    }
   },
   "cell_type": "markdown",
   "id": "a3350c1e-6b8e-4d4a-8d94-17a46669139d",
   "metadata": {},
   "source": [
    "# Check Cluster Resources\n",
    "\n",
    "The result should be consistent with what we see in the Ray dashboard, under the \"overview\" tab:\n",
    "\n",
    "![image.png](attachment:a9f6248f-68af-47c3-9dba-886dcfcac292.png)"
   ]
  },
  {
   "cell_type": "code",
   "execution_count": null,
   "id": "6ef032ec-f1ff-4d07-93b2-9a1a18ffacba",
   "metadata": {
    "scrolled": true
   },
   "outputs": [],
   "source": [
    "! ray job submit -- python -c \"import ray; ray.init(); print(ray.cluster_resources())\""
   ]
  },
  {
   "cell_type": "markdown",
   "id": "e08a7167-bbfe-4d11-bd81-dc62bf39d596",
   "metadata": {},
   "source": [
    "## (Only when necessary) Use `ray job stop` to stop a running job\n",
    "\n",
    "We have to first \"Interrupt the kernel\" with the square button in the menlar."
   ]
  },
  {
   "cell_type": "code",
   "execution_count": null,
   "id": "2fac9eb3-c721-4f51-901d-e279b17f91e1",
   "metadata": {},
   "outputs": [],
   "source": [
    "!ray job stop raysubmit_qEBJ46FmkFFWaNAY"
   ]
  },
  {
   "cell_type": "markdown",
   "id": "f0c86d3b-e7fa-45a2-b40a-d08fd38abec8",
   "metadata": {},
   "source": [
    "# Step 1: Prepare Data"
   ]
  },
  {
   "cell_type": "code",
   "execution_count": null,
   "id": "ca214ce0-7512-4ba3-a379-6b75b7649c62",
   "metadata": {},
   "outputs": [],
   "source": [
    "# Define some environment variables that are used by all\n",
    "\n",
    "%env ORIG_MODEL_NAME=stabilityai/stable-diffusion-2-1\n",
    "%env ORIG_MODEL_HASH=5cae40e6a2745ae2b01ad92ae5043f95f23644d6\n",
    "%env CLASS_NAME=dog"
   ]
  },
  {
   "cell_type": "markdown",
   "id": "a094784b-2b59-4e9c-ad65-d7827c8b3cb4",
   "metadata": {},
   "source": [
    "## 1.0 Preprare Folders\n",
    "\n",
    "We should see a `data` folder created under current folder."
   ]
  },
  {
   "cell_type": "code",
   "execution_count": null,
   "id": "e2deb3d5-f9c8-4ac5-bd67-86dfdda12cd7",
   "metadata": {},
   "outputs": [],
   "source": [
    "%%bash\n",
    "\n",
    "export DATA_PREFIX=\"$HOME/efs/src/jark-demo/05_dreambooth_finetuning/data\" # EFS is mounted on $HOME/efs\n",
    "export ORIG_MODEL_DIR=\"$DATA_PREFIX/model-orig\"\n",
    "export ORIG_MODEL_PATH=\"$ORIG_MODEL_DIR/models--${ORIG_MODEL_NAME/\\//--}/snapshots/$ORIG_MODEL_HASH\"\n",
    "export TUNED_MODEL_DIR=\"$DATA_PREFIX/model-tuned\"\n",
    "export IMAGES_REG_DIR=\"$DATA_PREFIX/images-reg\"\n",
    "export IMAGES_OWN_DIR=\"$DATA_PREFIX/images-own\"\n",
    "export IMAGES_NEW_DIR=\"$DATA_PREFIX/images-new\"\n",
    "\n",
    "mkdir -p $ORIG_MODEL_DIR $TUNED_MODEL_DIR $IMAGES_REG_DIR $IMAGES_OWN_DIR $IMAGES_NEW_DIR\n",
    "\n",
    "echo \"ORIG_MODEL_DIR=$ORIG_MODEL_DIR\"\n",
    "echo \"IMAGES_OWN_DIR=$IMAGES_OWN_DIR\"\n",
    "echo \"ORIG_MODEL_PATH=$ORIG_MODEL_PATH\"\n",
    "echo \"IMAGES_REG_DIR=$IMAGES_REG_DIR\""
   ]
  },
  {
   "cell_type": "markdown",
   "id": "7c0861cd-f2d1-40a3-8503-39ce80b001a1",
   "metadata": {},
   "source": [
    "## 1.1 Download the Pre-trained Stable Diffusino Model"
   ]
  },
  {
   "cell_type": "code",
   "execution_count": null,
   "id": "aba0e3ad-b534-408f-8c52-3babdd4dfe4e",
   "metadata": {},
   "outputs": [],
   "source": [
    "%env ORIG_MODEL_DIR=/home/jovyan/efs/src/jark-demo/05_dreambooth_finetuning/data/model-orig\n",
    "\n",
    "import os\n",
    "from huggingface_hub import snapshot_download\n",
    "\n",
    "snapshot_download(\n",
    "        repo_id=os.environ.get('ORIG_MODEL_NAME'),\n",
    "        revision=os.environ.get('ORIG_MODEL_HASH'), \n",
    "        cache_dir=os.environ.get('ORIG_MODEL_DIR')\n",
    "    )"
   ]
  },
  {
   "cell_type": "markdown",
   "id": "34a4e459-14a1-428b-bcbd-dc9a44d65fea",
   "metadata": {},
   "source": [
    "## 1.2 Download the Input Subjet Data\n",
    "\n",
    "In this case, we choose the [diffusers/dog-example](https://huggingface.co/datasets/diffusers/dog-example), which contains 5 photos of a particular dog that we'll call \"[v] dog\"."
   ]
  },
  {
   "cell_type": "code",
   "execution_count": null,
   "id": "a0f0b790-8290-4e0e-9649-24f301b18de9",
   "metadata": {},
   "outputs": [],
   "source": [
    "%env IMAGES_OWN_DIR=/home/jovyan/efs/src/jark-demo/05_dreambooth_finetuning/data/images-own\n",
    "\n",
    "from huggingface_hub import snapshot_download\n",
    "import os\n",
    "import sys\n",
    "\n",
    "local_dir = os.environ.get('IMAGES_OWN_DIR')\n",
    "\n",
    "os.makedirs(local_dir, exist_ok=True)\n",
    "\n",
    "snapshot_download(\n",
    "    \"diffusers/dog-example\",\n",
    "    local_dir=local_dir,\n",
    "    repo_type=\"dataset\",\n",
    "    ignore_patterns=\".gitattributes\",\n",
    ")\n"
   ]
  },
  {
   "cell_type": "markdown",
   "id": "fc833840-5c5a-4148-9bd9-b3f1e18933ca",
   "metadata": {},
   "source": [
    "## 1.3 Run Stable Diffusion Inference: on Ray Cluster\n",
    "\n",
    "Note that we need to set envrionment variables ORIG_MODEL_PATH and IMAGES_REG_DIR based on the location on the Ray cluster instead of the Jupyter notebook. The user is `ray` instead of `jovyan`."
   ]
  },
  {
   "cell_type": "code",
   "execution_count": null,
   "id": "06136932-370e-405e-896e-581b9db6df32",
   "metadata": {},
   "outputs": [],
   "source": [
    "%env PROJECT_ROOT=/home/ray/efs/src/jark-demo/05_dreambooth_finetuning\n",
    "%env ORIG_MODEL_PATH=/home/ray/efs/src/jark-demo/05_dreambooth_finetuning/data/model-orig/models--stabilityai--stable-diffusion-2-1/snapshots/5cae40e6a2745ae2b01ad92ae5043f95f23644d6\n",
    "%env IMAGES_REG_DIR=/home/ray/efs/src/jark-demo/05_dreambooth_finetuning/data/images-reg\n",
    "\n",
    "!ray job submit -- python  ${PROJECT_ROOT}/dreambooth/generate.py \\\n",
    "--model_dir=$ORIG_MODEL_PATH \\\n",
    "--output_dir=$IMAGES_REG_DIR \\\n",
    "--prompts=\"photo of a $CLASS_NAME\" \\\n",
    "--num_samples_per_prompt=200 \\\n",
    "--use_ray_data"
   ]
  },
  {
   "cell_type": "markdown",
   "id": "1eeb81c2-c260-4b34-895d-6fd33d48a397",
   "metadata": {},
   "source": [
    "# Step 2: DreamBooth Training on GPUs"
   ]
  },
  {
   "cell_type": "code",
   "execution_count": null,
   "id": "b0c59ec3-06ad-49d5-89c9-022ee9b96590",
   "metadata": {},
   "outputs": [],
   "source": [
    "pwd"
   ]
  },
  {
   "cell_type": "code",
   "execution_count": null,
   "id": "c63457c6-eeda-4dd2-b6ac-e1fc07553567",
   "metadata": {},
   "outputs": [],
   "source": [
    "!./step2_training.sh"
   ]
  },
  {
   "cell_type": "code",
   "execution_count": null,
   "id": "e916b959-c41a-48da-9e33-b9ee13627cfb",
   "metadata": {},
   "outputs": [],
   "source": [
    "!ray job stop raysubmit_qN7q59HQDR2R2DEd"
   ]
  },
  {
   "cell_type": "markdown",
   "id": "bf3486f7-d0e8-4256-b43f-c76e069b05d6",
   "metadata": {},
   "source": [
    "# Step 3: Interference\n"
   ]
  },
  {
   "cell_type": "code",
   "execution_count": null,
   "id": "f2f79441-7745-4094-bca7-cb87249c190a",
   "metadata": {},
   "outputs": [],
   "source": [
    "! ./step3_inference.sh"
   ]
  },
  {
   "cell_type": "markdown",
   "id": "5f0c33d6-bdec-4492-ab98-52b6be53ec7c",
   "metadata": {},
   "source": [
    "### Example output image"
   ]
  },
  {
   "cell_type": "code",
   "execution_count": null,
   "id": "e29293cb-d2a2-4288-bb95-250d3e523872",
   "metadata": {},
   "outputs": [],
   "source": [
    "from IPython.display import Image\n",
    "Image(\"/data/tmp/artifacts/example_out.jpg\")"
   ]
  },
  {
   "cell_type": "code",
   "execution_count": null,
   "id": "353be5a7-550e-4b86-97d3-10fe613d4cdd",
   "metadata": {},
   "outputs": [],
   "source": []
  }
 ],
 "metadata": {
  "kernelspec": {
   "display_name": "Python 3 (ipykernel)",
   "language": "python",
   "name": "python3"
  },
  "language_info": {
   "codemirror_mode": {
    "name": "ipython",
    "version": 3
   },
   "file_extension": ".py",
   "mimetype": "text/x-python",
   "name": "python",
   "nbconvert_exporter": "python",
   "pygments_lexer": "ipython3",
   "version": "3.11.7"
  }
 },
 "nbformat": 4,
 "nbformat_minor": 5
}
